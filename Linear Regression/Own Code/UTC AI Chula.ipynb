{
 "cells": [
  {
   "cell_type": "code",
   "execution_count": 21,
   "metadata": {},
   "outputs": [],
   "source": [
    "import matplotlib.pyplot as plt\n",
    "import pandas as pd\n",
    "import pylab as pl\n",
    "import numpy as np\n",
    "from sklearn import linear_model"
   ]
  },
  {
   "cell_type": "code",
   "execution_count": 22,
   "metadata": {},
   "outputs": [
    {
     "name": "stdout",
     "output_type": "stream",
     "text": [
      "before : (7,)\n",
      "After : (7, 1)\n"
     ]
    }
   ],
   "source": [
    "input_data = np.array([437, 264, 249, 297, 243, 272, 161])\n",
    "print('before : {}'.format(input_data.shape))\n",
    "input_data = input_data.reshape(-1, 1)\n",
    "print('After : {}'.format(input_data.shape))\n",
    "target = np.array([194, 121, 131, 159, 123, 161, 115])\n",
    "target = target.reshape(-1, 1)"
   ]
  },
  {
   "cell_type": "code",
   "execution_count": 23,
   "metadata": {},
   "outputs": [
    {
     "data": {
      "text/plain": [
       "LinearRegression(copy_X=True, fit_intercept=True, n_jobs=None, normalize=False)"
      ]
     },
     "execution_count": 23,
     "metadata": {},
     "output_type": "execute_result"
    }
   ],
   "source": [
    "regr = linear_model.LinearRegression()\n",
    "regr.fit (input_data, target)"
   ]
  },
  {
   "cell_type": "code",
   "execution_count": 24,
   "metadata": {
    "scrolled": true
   },
   "outputs": [
    {
     "name": "stdout",
     "output_type": "stream",
     "text": [
      "Coefficients:  [[0.31157133]]\n",
      "Intercept:  [57.83547515]\n"
     ]
    }
   ],
   "source": [
    "print ('Coefficients: ', regr.coef_)\n",
    "print ('Intercept: ',regr.intercept_)"
   ]
  },
  {
   "cell_type": "code",
   "execution_count": 32,
   "metadata": {},
   "outputs": [
    {
     "data": {
      "text/plain": [
       "0.3116"
      ]
     },
     "execution_count": 32,
     "metadata": {},
     "output_type": "execute_result"
    }
   ],
   "source": [
    "round(regr.coef_[0][0],4)"
   ]
  },
  {
   "cell_type": "code",
   "execution_count": 33,
   "metadata": {},
   "outputs": [
    {
     "data": {
      "text/plain": [
       "57.8355"
      ]
     },
     "execution_count": 33,
     "metadata": {},
     "output_type": "execute_result"
    }
   ],
   "source": [
    "round(regr.intercept_[0],4)"
   ]
  },
  {
   "cell_type": "code",
   "execution_count": 34,
   "metadata": {},
   "outputs": [
    {
     "data": {
      "text/plain": [
       "array([[194.0047],\n",
       "       [140.0979],\n",
       "       [135.4239],\n",
       "       [150.3807],\n",
       "       [133.5543],\n",
       "       [142.5907],\n",
       "       [108.0031]])"
      ]
     },
     "execution_count": 34,
     "metadata": {},
     "output_type": "execute_result"
    }
   ],
   "source": [
    "predict = round(regr.coef_[0][0],4)*input_data + round(regr.intercept_[0],4)\n",
    "predict"
   ]
  },
  {
   "cell_type": "code",
   "execution_count": 30,
   "metadata": {},
   "outputs": [
    {
     "data": {
      "text/plain": [
       "array([[193.9921478 ],\n",
       "       [140.09030714],\n",
       "       [135.41673714],\n",
       "       [150.37216114],\n",
       "       [133.54730914],\n",
       "       [142.58287781],\n",
       "       [107.99845981]])"
      ]
     },
     "execution_count": 30,
     "metadata": {},
     "output_type": "execute_result"
    }
   ],
   "source": [
    "# predict = regr.predict(input_data)\n",
    "# predict"
   ]
  },
  {
   "cell_type": "code",
   "execution_count": 40,
   "metadata": {},
   "outputs": [
    {
     "name": "stdout",
     "output_type": "stream",
     "text": [
      "R_suare:  0.8081129728255393\n",
      "RMSE:  11.697650648069716\n"
     ]
    }
   ],
   "source": [
    "# Compute r_square\n",
    "import math\n",
    "from sklearn.metrics import r2_score\n",
    "from sklearn.metrics import mean_squared_error as mse\n",
    "r2 = r2_score(target, predict)\n",
    "print(\"R_suare: \", r2)\n",
    "mse_error = mse(target, predict)\n",
    "rmse_error = math.sqrt(mse_error)\n",
    "print(\"RMSE: \", rmse_error)"
   ]
  },
  {
   "cell_type": "code",
   "execution_count": 41,
   "metadata": {},
   "outputs": [
    {
     "name": "stdout",
     "output_type": "stream",
     "text": [
      "Mean absolute error: 9.73\n",
      "Residual sum of squares (MSE): 136.84\n",
      "R2-score: 0.76\n"
     ]
    }
   ],
   "source": [
    "print(\"Mean absolute error: %.2f\" % np.mean(np.absolute(predict - target)))\n",
    "print(\"Residual sum of squares (MSE): %.2f\" % np.mean((predict - target) ** 2))\n",
    "print(\"R2-score: %.2f\" % r2_score(predict , target) )"
   ]
  },
  {
   "cell_type": "code",
   "execution_count": null,
   "metadata": {},
   "outputs": [],
   "source": []
  }
 ],
 "metadata": {
  "kernelspec": {
   "display_name": "Python 3",
   "language": "python",
   "name": "python3"
  },
  "language_info": {
   "codemirror_mode": {
    "name": "ipython",
    "version": 3
   },
   "file_extension": ".py",
   "mimetype": "text/x-python",
   "name": "python",
   "nbconvert_exporter": "python",
   "pygments_lexer": "ipython3",
   "version": "3.7.7"
  }
 },
 "nbformat": 4,
 "nbformat_minor": 4
}
